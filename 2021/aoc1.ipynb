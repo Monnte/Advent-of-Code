{
 "cells": [
  {
   "cell_type": "code",
   "execution_count": 117,
   "metadata": {},
   "outputs": [
    {
     "name": "stdout",
     "output_type": "stream",
     "text": [
      "1564\n",
      "1611\n"
     ]
    }
   ],
   "source": [
    "import numpy as np\n",
    "\n",
    "with open(\"in1\") as f:\n",
    "\tinput = f.read().splitlines()\n",
    "\n",
    "input = np.array(input,dtype=\"int32\")\n",
    "print(np.sum(np.diff(input) > 0))\n",
    "\n",
    "windows = np.convolve(input,[1,1,1],'valid')\n",
    "print(np.sum(np.diff(windows) > 0))"
   ]
  }
 ],
 "metadata": {
  "language_info": {
   "name": "python"
  },
  "orig_nbformat": 4
 },
 "nbformat": 4,
 "nbformat_minor": 2
}
